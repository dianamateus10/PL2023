{
 "cells": [
  {
   "cell_type": "code",
   "execution_count": null,
   "metadata": {},
   "outputs": [],
   "source": [
    "TPC1: Análise de dados: doença cardíaca\n",
    "\n",
    "Descarregue o ficheiro de dados: myheart.csv Crie um programa em Python, conjunto de funções, que responda às seguintes questões:\n",
    "\n",
    "    Crie uma função que lê a informação do ficheiro para um modelo, previamente pensado em memória;\n",
    "    Pense num modelo para guardar uma distribuição;\n",
    "    Crie uma função que calcula a distribuição da doença por sexo;\n",
    "    Crie uma função que calcula a distribuição da doença por escalões etários. Considere os seguintes escalões: [30-34], [35-39], [40-44], ...\n",
    "    Crie uma função que calcula a distribuição da doença por níveis de colesterol. Considere um nível igual a um intervalo de 10 unidades, comece no limite inferior e crie os níveis necessários até abranger o limite superior;\n",
    "    Crie uma função que imprime na forma de uma tabela uma distribuição;\n",
    "    Especifique um programa que ao executar apresenta as tabelas correspondentes às distribuições pedidas;\n",
    "    Extra: explore o módulo matplotlib e crie gráficos para as suas distribuições.\n"
   ]
  }
 ],
 "metadata": {
  "language_info": {
   "name": "python"
  },
  "orig_nbformat": 4
 },
 "nbformat": 4,
 "nbformat_minor": 2
}
